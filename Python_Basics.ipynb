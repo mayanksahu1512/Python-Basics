{
  "nbformat": 4,
  "nbformat_minor": 0,
  "metadata": {
    "colab": {
      "provenance": []
    },
    "kernelspec": {
      "name": "python3",
      "display_name": "Python 3"
    },
    "language_info": {
      "name": "python"
    }
  },
  "cells": [
    {
      "cell_type": "markdown",
      "source": [],
      "metadata": {
        "id": "dLL_Z76Abn8E"
      }
    },
    {
      "cell_type": "markdown",
      "source": [
        "#Python Basics Questions\n"
      ],
      "metadata": {
        "id": "rtz60LwmbqPN"
      }
    },
    {
      "cell_type": "markdown",
      "source": [
        "1. What is Python, and why is it popular?\n",
        "  - Python is a high-level, versatile programming language known for its readability and ease of use. It's widely used in web development, data science, machine learning, and more, due to its clear syntax and extensive libraries.\n",
        "\n",
        "  9 Factors of Python Popularity -\n",
        "\n",
        " ->Python is easy to learn\n",
        "\n",
        "One of the largest hurdles for those who are interested in getting into coding is that programming languages really are their own languages; they have their own rules, syntax, grammatical structures, etc., and they often necessitate learning a completely new vocabulary.\n",
        "\n",
        "  -> 2. Python has an active, supportive community\n",
        "\n",
        "No programmer is an island; they depend on essential documentation and support so that when they encounter unexpected issues or new problems to solve, they have somewhere to go to find answers. Python has been around for over three decades, more than enough time for a dedicated user community to grow up around it. The Python community includes developers of all skill levels and provides easy access to documentation, guides, tutorials, and more.\n",
        "\n",
        "  -> 3. Python is flexible\n",
        "\n",
        "Python is often described as a general-purpose programming language. This means that unlike domain-specific languages which are designed only for certain application types, Python may be used to develop nearly any kind of application in any industry or field.\n",
        "\n",
        "  -> 4. Python offers versatile web-development solutions\n",
        "Although Python is an effective choice for many kinds of development projects, its usefulness in web development is worth specific recognition. Using available open-source libraries, Python developers can get their web applications up and running quickly and easily.\n",
        "\n",
        "  -> 5. Python is well suited to data science and analytics\n",
        "\n",
        "Many of the factors that make python an attractive choice for beginners also set it apart as a reliable option for data-science and data-analysis. Python’s ease of use, support, and flexibility have made it an essential tool for those who work with machine learning, cloud computing, and big data.\n",
        "\n",
        "  -> 6. Python is efficient, fast, and reliable\n",
        "\n",
        "Occasionally, a developer that specializes in a different programming language might ask “Why is Python slow?” And yes, compared to some other languages, such as Java, C#, Go, JavaScript, or C++, Python often has a slightly slower execution speed. However, in today’s world, development time is much more important than computer run time. And in terms of time-to-market, Python simply cannot be beaten.\n",
        "\n",
        "  -> 7. Python is widely used with IoT Technology\n",
        "\n",
        "As wireless access becomes ever-more ubiquitous, the internet of things (IoT) continues to grow. These small, internet-connected devices often allow users to make small adjustments to their code, customizing their performance to fit specific needs. Many of these devices support either Python or Micropython (a scaled down version of the programming language designed for simpler devices).\n",
        "\n",
        "  -> 8. Python empowers custom automation\n",
        "\n",
        "Programming complex technologies generally requires writing a significant amount of code. Unfortunately, even small, simple tasks can end up co-opting large amounts of available developer time. Python incorporates tools and modules to help automate these repetitive, time-consuming tasks, so that developers can focus their energies on other important issues.\n",
        "\n",
        "  -> 9. Python is the academic language\n",
        "\n",
        "Thanks to its growing dependability in the areas of data science, Python has become the go-to computing language in schools, colleges, and other places of learning. Simply put, those who pursue a formal education in computer science are extremely likely to be introduced to Python during the course of their learning and are even more likely to continue using Python throughout their career.\n",
        "\n",
        "\n",
        "\n",
        "2. What is an interpreter in Python?\n",
        "  - In Python, an interpreter is a program that executes Python code directly, line by line, without needing to compile the entire program into machine code first. It reads, analyzes, and executes the code, providing immediate feedback. This makes Python an interpreted language, contrasting with compiled languages where the entire code is translated before execution.\n",
        "\n",
        "\n",
        "\n",
        "3. What are pre-defined keywords in Python?\n",
        "  - Keywords in Python are reserved words that have special meanings and serve specific purposes in the language syntax. Python keywords cannot be used as the names of variables, functions, and classes or any other identifier.\n",
        "\n",
        "  We can also get all the keyword names using the below code.  "
      ],
      "metadata": {
        "id": "eOB-VtTFbwgg"
      }
    },
    {
      "cell_type": "code",
      "source": [
        "# printing all keywords at once using \"kwlist()\"\n",
        "import keyword\n",
        "print(\"The list of keywords is : \")\n",
        "print(keyword.kwlist)"
      ],
      "metadata": {
        "colab": {
          "base_uri": "https://localhost:8080/"
        },
        "id": "zsOthYDBf2AB",
        "outputId": "8d4bf583-16d5-4276-9b4f-a87f90f91d47"
      },
      "execution_count": null,
      "outputs": [
        {
          "output_type": "stream",
          "name": "stdout",
          "text": [
            "The list of keywords is : \n",
            "['False', 'None', 'True', 'and', 'as', 'assert', 'async', 'await', 'break', 'class', 'continue', 'def', 'del', 'elif', 'else', 'except', 'finally', 'for', 'from', 'global', 'if', 'import', 'in', 'is', 'lambda', 'nonlocal', 'not', 'or', 'pass', 'raise', 'return', 'try', 'while', 'with', 'yield']\n"
          ]
        }
      ]
    },
    {
      "cell_type": "markdown",
      "source": [
        "4. Can keywords be used as variable names?\n",
        "  - No, keywords cannot be used as variable names in Python. Keywords are reserved words that have special meanings and functionalities within the Python language, and using them as identifiers (like variable names, function names, or class names) would lead to syntax errors.\n",
        "For example, attempting to use if as a variable name would result in an error:\n",
        "\n",
        "if = 10  # This will raise a SyntaxError\n",
        "\n",
        "Similarly, you cannot use other keywords like for, while, class, def, import, True, False, or None as variable names.\n",
        "If you need to use a name that is similar to a keyword, the convention is to append a single trailing underscore to the name, such as class_ or list_. However, it is generally best practice to choose variable names that are descriptive and do not conflict with Python's reserved keywords."
      ],
      "metadata": {
        "id": "4bM1RSPYgk70"
      }
    },
    {
      "cell_type": "markdown",
      "source": [
        "5. What is mutability in Python?\n",
        "  - Mutable objects are objects that can change. Two types of mutable objects in Python are: listanddict.\n",
        "\n",
        ">>> my_list = [1, 2, 3]\n",
        ">>> my_list.pop()\n",
        "3\n",
        ">>> my_list\n",
        "[1, 2]\n",
        "Since lists are mutable, and my_list is a list, we can perform operations like pop() that change the list (i.e. remove an element from the end of the list). pop() is a method (function) that list objects have access to. An object can only utilize functions that are for it’s specific type.\n",
        "\n",
        "If we want to add another key value pair to a dictionary…\n",
        "\n",
        ">>> my_dict = {1: 'banana', 2: 'kiwi', 3: 'mango'}\n",
        ">>> my_dict[4] = 'guava'\n",
        ">>> my_dict\n",
        "{1: 'banana', 2: 'kiwi', 3: 'mango', 4: 'guava'}\n",
        "There is no problem, because my_dict is of type dict and dicts are mutable."
      ],
      "metadata": {
        "id": "pULneF4vg9Yp"
      }
    },
    {
      "cell_type": "markdown",
      "source": [
        "6. Why are lists mutable, but tuples are immutable?\n",
        "  - Tuples are immutable, meaning that once a tuple has been created, you can’t replace any of its elements with a new value. Lists are mutable, meaning that you can always change a list’s elements. Only immutable elements can be used as dictionary keys, and hence only tuples and not lists can be used as keys.\n",
        "\n"
      ],
      "metadata": {
        "id": "2anCXf4UkAMa"
      }
    },
    {
      "cell_type": "markdown",
      "source": [
        "7. What is the difference between “==” and “is” operators in Python?\n",
        "\n",
        "In Python, == and is operators are both used for comparison but they serve different purposes. The == operator checks for equality of values which means it evaluates whether the values of two objects are the same. On the other hand, is operator checks for identity, meaning it determines whether two variables point to the same object in memory.\n",
        "\n",
        "== Operator\n",
        "To compare objects based on their values, Python's equality operators (==) are employed. It calls the left object's __eq__() class method which specifies the criteria for determining equality. However, these constraints are typically written so that the equality operator == returns True if two objects, have the same value and returns False if both have different value.\n",
        "\n",
        "x = [1, 2, 3]\n",
        "y = [1, 2, 3]\n",
        "z = x\n",
        "\n",
        "# Equality comparison (==)\n",
        "if x == y:\n",
        "    print(\"True\")\n",
        "else:\n",
        "    print(\"False\")\n",
        "\n",
        "   \n",
        " Explanation\n",
        "x == y checks if both lists have the same values. Since both lists contain [1, 2, 3], the output will be True.\n",
        "‘is’ Operator\n",
        "Python identity operators (is, is not) are used to compare objects based on their identity. When the variables on either side of an operator point at the exact same object, the \"is\" operator's evaluation is true. Otherwise, it would provide us with a false assessment.\n",
        "\n",
        "Code Example of == operator and ‘is’ Operator :\n",
        "\n",
        "x = [1, 2, 3]\n",
        "y = [1, 2, 3]\n",
        "z = x\n",
        "\n",
        "\n",
        "# Case 1: Identity comparison (is)\n",
        "if x is y:\n",
        "    print(\"True\")\n",
        "else:\n",
        "    print(\"False\")\n",
        "\n",
        "# Case 2: Comparing references (is)\n",
        "if x is z:\n",
        "    print(\"True\")\n",
        "else:\n",
        "    print(\"False\")\n",
        "\n",
        "    Output\n",
        "False\n",
        "True"
      ],
      "metadata": {
        "id": "KaXS9kx1kzEU"
      }
    },
    {
      "cell_type": "markdown",
      "source": [
        "8. What are logical operators in Python?\n",
        "  - Logical operators in Python are used to combine conditional statements and evaluate their truth values (True or False). They are also known as Boolean operators because they work with Boolean values.\n",
        "There are three primary logical operators in Python:\n",
        "and (Logical AND):\n",
        "Returns True if both operands are True.\n",
        "Returns False if at least one operand is False.\n",
        "Example: (x > 5) and (x < 10) returns True only if x is greater than 5 AND x is less than 10.\n",
        "or (Logical OR):\n",
        "Returns True if at least one operand is True.\n",
        "Returns False only if both operands are False.\n",
        "Example: (x < 5) or (x > 15) returns True if x is less than 5 OR x is greater than 15.\n",
        "not (Logical NOT):\n",
        "Reverses the truth value of a single operand.\n",
        "If the operand is True, not returns False.\n",
        "If the operand is False, not returns True.\n",
        "Example: not (x == 10) returns True if x is not equal to 10."
      ],
      "metadata": {
        "id": "8oUngdQqm3gf"
      }
    },
    {
      "cell_type": "markdown",
      "source": [
        "9. What is type casting in Python?\n",
        "  - Type casting, also known as type conversion, is the process of converting one data type into another. Ex: you want to change the data type of a variable from an integer 2 to a float 2.0. This is a case where you'd use type casting.\n",
        "\n",
        "Type casting can be broadly categorized into two types: implicit (automatic) casting and explicit (manual) casting.\n",
        "\n",
        "Implicit(Automatic Type Conversion): Occurs automatically when the system handles the conversion without the programmer’s intervention.\n",
        "Generally involves converting a “smaller” data type to a “larger” one to prevent data loss.\n",
        "Ex: converting an integer to a floating-point number:\n",
        "\n",
        "# Implicit casting (automatic) example in Python\n",
        "integer_number = 10\n",
        "float_number = 5.5\n",
        "\n",
        "result = integer_number + float_number\n",
        "# The integer '10' is implicitly cast to a float before the addition\n",
        "\n",
        "print(result)  \n",
        "\n",
        "# Output: 15.5\n",
        "\n",
        "2. Explicit (Manual Type Conversion): Requires the programmer to explicitly specify the type conversion. Involves converting a “larger” data type to a “smaller” one. Example: Converting a float to an integer or a string to an integer:\n",
        "\n",
        "float_number = 10.5\n",
        "int_number = int(float_number) # Explicit casting from float to int\n",
        "str_number = str(float_number)\n",
        "print(int_number)\n",
        "print(str_number)\n",
        "type(str_number)\n",
        "\n",
        "# O/t-\n",
        "10\n",
        "10.5\n",
        "str\n",
        "\n",
        "It’s important to note that not all type conversions are valid, and attempting to convert incompatible types may result in errors or unexpected behavior."
      ],
      "metadata": {
        "id": "tiThB6TYvFia"
      }
    },
    {
      "cell_type": "markdown",
      "source": [],
      "metadata": {
        "id": "UJ9pbdkWv0KG"
      }
    },
    {
      "cell_type": "markdown",
      "source": [
        "10. What is the difference between implicit and explicit type casting?\n",
        "  - Implicit Type Casting ->\n",
        "\n",
        "Implicit type casting, also known as automatic type conversion, occurs when Python automatically converts one data type to another without the programmer’s intervention. This typically happens when operations are performed on variables of different data types, and Python needs to determine the appropriate data type for the result.\n",
        "\n",
        "#Example: Integer and Float Implicit Casting\n",
        "\n",
        "x=5\n",
        "y=2.0\n",
        "result = x+y  #Implicitly convert x to float\n",
        "print (result)  #output 7.0\n",
        "\n",
        "In this example, Python implicitly converts the integer `x` to a float to perform the addition operation, resulting in a float.\n",
        "\n",
        "Explicit Type Casting->\n",
        "\n",
        "Explicit type casting, also known as type conversion or type casting, requires the programmer to specify the desired data type explicitly. Python provides several built-in functions to perform explicit type casting:\n",
        "\n",
        "#Example: Integer to String Explicit Casting\n",
        "\n",
        "num, = 42\n",
        "str_num = str(num)\n",
        "print (str_num) #output: \"42\"\n",
        "\n",
        "In this example, we use the `str()` function to explicitly convert an integer to a string."
      ],
      "metadata": {
        "id": "15-voLJA1QH9"
      }
    },
    {
      "cell_type": "markdown",
      "source": [
        "11. What is the purpose of conditional statements in Python?\n",
        "  - It helps you to code decisions based on some preconditions.\n",
        "\n",
        "  if condition True:\n",
        "  block of code will be executed\n",
        "  if (condition): #if condition is True\n",
        "  print (\"yes\")\n",
        "  elif (condition2):  #if condtion 2 is True\n",
        "  print (\"no\")\n",
        "\n",
        "  else: #otherwise\n",
        "  print (\"maybe\")\n",
        "\n",
        "  #Code Example\n",
        "\n",
        "  a=22\n",
        "  if (a>9):\n",
        "    print (\"greater\")\n",
        "  else:\n",
        "    print (\"lessar\")\n",
        "Weather =\"rainy\"\n",
        "if weather == \"rainy\":\n",
        "  print (\"I will not play cricket\")\n",
        "\n",
        "  #output I will not play cricket"
      ],
      "metadata": {
        "id": "mKjUNESj3tv7"
      }
    },
    {
      "cell_type": "markdown",
      "source": [
        "12. How does the elif statement work?\n",
        "  -In Python, the elif statement is used as part of a conditional control structure to check multiple conditions one after the other.\n",
        "\n",
        "The if statement tests the first condition.\n",
        "\n",
        "If the if condition is False, then the program checks the elif conditions in the order they appear.\n",
        "\n",
        "As soon as one elif condition is True, its corresponding block of code is executed, and the rest are skipped.\n",
        "\n",
        "If none of the if or elif conditions are True, the else block is executed (if provided).\n",
        "\n",
        "The elif statement helps make the code more readable and avoids deeply nested if-else blocks.\n",
        "\n",
        "# Example: Checking a person's age category\n",
        "\n",
        "age = 25\n",
        "\n",
        "if age < 13:\n",
        "    print(\"You are a child.\")\n",
        "elif age < 20:\n",
        "    print(\"You are a teenager.\")\n",
        "elif age < 60:\n",
        "    print(\"You are an adult.\")\n",
        "else:\n",
        "    print(\"You are a senior citizen.\")\n",
        "\n",
        "#output\n",
        "You are an adult.\n"
      ],
      "metadata": {
        "id": "hB6ew7ki5mmM"
      }
    },
    {
      "cell_type": "markdown",
      "source": [
        "13. What is the difference between for and while loops?\n",
        "  - for loop\n",
        "A for loop is used to iterate over a sequence (like a list, tuple, string, or range of numbers).\n",
        "\n",
        "It runs for each element in the sequence, so the number of iterations is known or defined by the sequence.\n",
        "\n",
        "It’s best when you know how many times you want to repeat an action.\n",
        "\n",
        " Typical use: Repeating a block for every item in a list, or counting a set number of times.\n",
        "\n",
        "while loop\n",
        "A while loop runs as long as a condition is True.\n",
        "\n",
        "It’s used when the number of repetitions is not fixed and depends on a condition that changes during execution.\n",
        "\n",
        "It can run forever if the condition is never False (so always make sure the condition can eventually become False).\n",
        "\n",
        " Typical use: Repeat something until a certain state is reached."
      ],
      "metadata": {
        "id": "YrXgh6bz6uD0"
      }
    },
    {
      "cell_type": "markdown",
      "source": [
        "14. Describe a scenario where a while loop is more suitable than a for loop?\n",
        "  - Imagine you are writing a program that asks a user to enter a positive number. You don’t know how many times the user might enter invalid input (like a negative number or zero). You want to keep asking until the user enters a valid positive number.\n",
        "\n",
        "In this case, you can’t use a for loop easily because:\n",
        "\n",
        "The number of repetitions is unknown.\n",
        "\n",
        "The loop should run until a condition is met — the user enters valid input.\n",
        "\n",
        "A while loop is perfect here because it runs while a condition is True.\n",
        "\n",
        "#Example\n",
        "\n",
        "# Keep asking the user until they enter a positive number\n",
        "\n",
        "number = int(input(\"Enter a positive number: \"))\n",
        "\n",
        "while number <= 0:\n",
        "    print(\"That's not a positive number. Try again.\")\n",
        "    number = int(input(\"Enter a positive number: \"))\n",
        "\n",
        "print(f\"Thank you! You entered {number}.\")\n",
        "\n",
        "\n",
        "#Why while is better here\n",
        "The loop keeps repeating as long as the condition (number <= 0) is True.\n",
        "\n",
        "There’s no way to know in advance how many times it will take for the user to enter valid input.\n",
        "\n",
        "A for loop wouldn’t make sense here because it needs a sequence or known range."
      ],
      "metadata": {
        "id": "oiss8ZeI7Z4T"
      }
    },
    {
      "cell_type": "markdown",
      "source": [
        "# Practical Questions\n"
      ],
      "metadata": {
        "id": "wiyBW1CF9DWx"
      }
    },
    {
      "cell_type": "code",
      "source": [
        "#1. Write a Python program to print \"Hello, World!\n",
        "\n",
        "print(\"Hello, World!\")\n"
      ],
      "metadata": {
        "colab": {
          "base_uri": "https://localhost:8080/"
        },
        "id": "-SrUiSkc9H9d",
        "outputId": "c9c1852d-5318-4de5-8957-05e8fe8bf15b"
      },
      "execution_count": 1,
      "outputs": [
        {
          "output_type": "stream",
          "name": "stdout",
          "text": [
            "Hello, World!\n"
          ]
        }
      ]
    },
    {
      "cell_type": "code",
      "source": [
        "#2.  Write a Python program that displays your name and age.\n",
        "Name = input ( \" Enter your name: \")\n",
        "Age = int(input (\"enter your Age: \"))\n",
        "print (\"My name is\",  Name)\n",
        "print (\"I am\", Age, \"years old.\")\n"
      ],
      "metadata": {
        "colab": {
          "base_uri": "https://localhost:8080/"
        },
        "id": "DSE5D2Fr9i3k",
        "outputId": "443b1a50-b62c-4e3f-8efb-bc533dbf5464"
      },
      "execution_count": 12,
      "outputs": [
        {
          "output_type": "stream",
          "name": "stdout",
          "text": [
            " Enter your name: Mayank Sahu\n",
            "enter your Age: 29\n",
            "My name is Mayank Sahu\n",
            "I am 29 years old.\n"
          ]
        }
      ]
    },
    {
      "cell_type": "code",
      "source": [
        "#3. Write code to print all the pre-defined keywords in Python using the keyword library.\n",
        "import keyword\n",
        "\n",
        "# Get the list of all keywords\n",
        "keywords_list = keyword.kwlist\n",
        "\n",
        "# Print the keywords\n",
        "print(\"Python keywords are:\")\n",
        "for kw in keywords_list:\n",
        "    print(kw)\n"
      ],
      "metadata": {
        "colab": {
          "base_uri": "https://localhost:8080/"
        },
        "id": "bfd2b9h5-0Bv",
        "outputId": "1e6ef60c-9625-447f-a3b9-29de5e680a16"
      },
      "execution_count": 13,
      "outputs": [
        {
          "output_type": "stream",
          "name": "stdout",
          "text": [
            "Python keywords are:\n",
            "False\n",
            "None\n",
            "True\n",
            "and\n",
            "as\n",
            "assert\n",
            "async\n",
            "await\n",
            "break\n",
            "class\n",
            "continue\n",
            "def\n",
            "del\n",
            "elif\n",
            "else\n",
            "except\n",
            "finally\n",
            "for\n",
            "from\n",
            "global\n",
            "if\n",
            "import\n",
            "in\n",
            "is\n",
            "lambda\n",
            "nonlocal\n",
            "not\n",
            "or\n",
            "pass\n",
            "raise\n",
            "return\n",
            "try\n",
            "while\n",
            "with\n",
            "yield\n"
          ]
        }
      ]
    },
    {
      "cell_type": "code",
      "source": [
        "# 4. Write a program that checks if a given word is a Python keyword.\n",
        "import keyword\n",
        "\n",
        "# Ask the user to enter a word\n",
        "word = input(\"Enter a word: \")\n",
        "\n",
        "# Check if the word is a Python keyword\n",
        "if keyword.iskeyword(word):\n",
        "    print(f\"'{word}' is a Python keyword.\")\n",
        "else:\n",
        "    print(f\"'{word}' is NOT a Python keyword.\")\n"
      ],
      "metadata": {
        "colab": {
          "base_uri": "https://localhost:8080/"
        },
        "id": "jnurRz0kAhJH",
        "outputId": "34a30628-decc-497c-d517-eb7d2eaff1fd"
      },
      "execution_count": 14,
      "outputs": [
        {
          "output_type": "stream",
          "name": "stdout",
          "text": [
            "Enter a word: Hello\n",
            "'Hello' is NOT a Python keyword.\n"
          ]
        }
      ]
    },
    {
      "cell_type": "code",
      "source": [
        "# 5. Create a list and tuple in Python, and demonstrate how attempting to change an element works differently for each.\n",
        "# Create a list and a tuple\n",
        "my_list = [1, 2, 3]\n",
        "my_tuple = (1, 2, 3)\n",
        "\n",
        "# Changing an element in the list\n",
        "print(\"Original list:\", my_list)\n",
        "my_list[1] = 20\n",
        "print(\"List after change:\", my_list)\n",
        "\n",
        "# Attempting to change an element in the tuple\n",
        "print(\"\\nOriginal tuple:\", my_tuple)\n",
        "try:\n",
        "    my_tuple[1] = 20\n",
        "except TypeError as e:\n",
        "    print(\"Error when trying to change tuple:\", e)\n"
      ],
      "metadata": {
        "colab": {
          "base_uri": "https://localhost:8080/"
        },
        "id": "jnHyBw0ABJoZ",
        "outputId": "5f761f78-374a-474d-8faf-7db0efde8792"
      },
      "execution_count": 15,
      "outputs": [
        {
          "output_type": "stream",
          "name": "stdout",
          "text": [
            "Original list: [1, 2, 3]\n",
            "List after change: [1, 20, 3]\n",
            "\n",
            "Original tuple: (1, 2, 3)\n",
            "Error when trying to change tuple: 'tuple' object does not support item assignment\n"
          ]
        }
      ]
    },
    {
      "cell_type": "code",
      "source": [
        "# 6. Write a function to demonstrate the behavior of mutable and immutable arguments.\n",
        "def modify_arguments(num, my_list):\n",
        "    print(\"\\nInside function before changes:\")\n",
        "    print(f\"num = {num}\")\n",
        "    print(f\"my_list = {my_list}\")\n",
        "\n",
        "    num += 10        # Trying to change immutable int\n",
        "    my_list.append(4)  # Modifying mutable list\n",
        "\n",
        "    print(\"\\nInside function after changes:\")\n",
        "    print(f\"num = {num}\")\n",
        "    print(f\"my_list = {my_list}\")\n",
        "\n",
        "# Immutable argument\n",
        "number = 5\n",
        "\n",
        "# Mutable argument\n",
        "numbers_list = [1, 2, 3]\n",
        "\n",
        "print(\"Before function call:\")\n",
        "print(f\"number = {number}\")\n",
        "print(f\"numbers_list = {numbers_list}\")\n",
        "\n",
        "modify_arguments(number, numbers_list)\n",
        "\n",
        "print(\"\\nAfter function call:\")\n",
        "print(f\"number = {number} (unchanged, immutable)\")\n",
        "print(f\"numbers_list = {numbers_list} (changed, mutable)\")\n"
      ],
      "metadata": {
        "colab": {
          "base_uri": "https://localhost:8080/"
        },
        "id": "kIiwlY3DBjKT",
        "outputId": "e567ef5a-e572-41a9-ebc3-f7d59aece798"
      },
      "execution_count": 16,
      "outputs": [
        {
          "output_type": "stream",
          "name": "stdout",
          "text": [
            "Before function call:\n",
            "number = 5\n",
            "numbers_list = [1, 2, 3]\n",
            "\n",
            "Inside function before changes:\n",
            "num = 5\n",
            "my_list = [1, 2, 3]\n",
            "\n",
            "Inside function after changes:\n",
            "num = 15\n",
            "my_list = [1, 2, 3, 4]\n",
            "\n",
            "After function call:\n",
            "number = 5 (unchanged, immutable)\n",
            "numbers_list = [1, 2, 3, 4] (changed, mutable)\n"
          ]
        }
      ]
    },
    {
      "cell_type": "code",
      "source": [
        "# 7.Write a program that performs basic arithmetic operations on two user-input numbers.\n",
        "\n",
        "# Get input from the user\n",
        "num1 = float(input(\"Enter first number: \"))\n",
        "num2 = float(input(\"Enter second number: \"))\n",
        "\n",
        "# Perform basic arithmetic operations\n",
        "addition = num1 + num2\n",
        "subtraction = num1 - num2\n",
        "multiplication = num1 * num2\n",
        "\n",
        "# Display the results\n",
        "print(\"\\nResults:\")\n",
        "print(f\"Addition: {num1} + {num2} = {addition}\")\n",
        "print(f\"Subtraction: {num1} - {num2} = {subtraction}\")\n",
        "print(f\"Multiplication: {num1} * {num2} = {multiplication}\")\n",
        "print(f\"Division: {num1} / {num2} = {division}\")\n",
        ""
      ],
      "metadata": {
        "colab": {
          "base_uri": "https://localhost:8080/"
        },
        "id": "pAsSilBDCFk4",
        "outputId": "31fb261b-8927-4e89-9f6c-0d679ae2486c"
      },
      "execution_count": 18,
      "outputs": [
        {
          "output_type": "stream",
          "name": "stdout",
          "text": [
            "Enter first number: 2\n",
            "Enter second number: 2\n",
            "\n",
            "Results:\n",
            "Addition: 2.0 + 2.0 = 4.0\n",
            "Subtraction: 2.0 - 2.0 = 0.0\n",
            "Multiplication: 2.0 * 2.0 = 4.0\n",
            "Division: 2.0 / 2.0 = 0.5\n"
          ]
        }
      ]
    },
    {
      "cell_type": "code",
      "source": [
        "# 8. Write a program to demonstrate the use of logical operators.\n",
        "\n",
        "# Example values\n",
        "a = True\n",
        "b = False\n",
        "\n",
        "print(\"Logical Operators Demo\\n\")\n",
        "\n",
        "# AND operator\n",
        "result_and = a and b\n",
        "print(f\"{a} and {b} = {result_and}\")\n",
        "\n",
        "# OR operator\n",
        "result_or = a or b\n",
        "print(f\"{a} or {b} = {result_or}\")\n",
        "\n",
        "# NOT operator\n",
        "result_not_a = not a\n",
        "result_not_b = not b\n",
        "print(f\"not {a} = {result_not_a}\")\n",
        "print(f\"not {b} = {result_not_b}\")\n",
        "\n",
        "# Example with conditions\n",
        "x = 15\n",
        "\n",
        "print(\"\\nExample with conditions:\")\n",
        "if x > 10 and x < 20:\n",
        "    print(f\"{x} is greater than 10 AND less than 20\")\n",
        "\n",
        "if x < 10 or x > 12:\n",
        "    print(f\"{x} is less than 10 OR greater than 12\")\n",
        "\n",
        "if not(x == 10):\n",
        "    print(f\"{x} is NOT equal to 10\")\n"
      ],
      "metadata": {
        "colab": {
          "base_uri": "https://localhost:8080/"
        },
        "id": "dWjhrbcyDhM0",
        "outputId": "769341c3-0933-48a7-8bfc-27f8ad5195a2"
      },
      "execution_count": 19,
      "outputs": [
        {
          "output_type": "stream",
          "name": "stdout",
          "text": [
            "Logical Operators Demo\n",
            "\n",
            "True and False = False\n",
            "True or False = True\n",
            "not True = False\n",
            "not False = True\n",
            "\n",
            "Example with conditions:\n",
            "15 is greater than 10 AND less than 20\n",
            "15 is less than 10 OR greater than 12\n",
            "15 is NOT equal to 10\n"
          ]
        }
      ]
    },
    {
      "cell_type": "code",
      "source": [
        "# 9. Write a Python program to convert user input from string to integer, float, and boolean types.\n",
        "\n",
        "# Get user input (always as a string)\n",
        "user_input = input(\"Enter a value: \")\n",
        "\n",
        "print(\"\\nOriginal input:\")\n",
        "print(f\"String: {user_input}\")\n",
        "\n",
        "# Convert to integer\n",
        "try:\n",
        "    int_value = int(user_input)\n",
        "    print(f\"Integer: {int_value}\")\n",
        "except ValueError:\n",
        "    print(\"Cannot convert to integer.\")\n",
        "\n",
        "# Convert to float\n",
        "try:\n",
        "    float_value = float(user_input)\n",
        "    print(f\"Float: {float_value}\")\n",
        "except ValueError:\n",
        "    print(\"Cannot convert to float.\")\n",
        "\n",
        "# Convert to boolean\n",
        "# Note: In Python, any non-empty string is True, empty string is False\n",
        "bool_value = bool(user_input)\n",
        "print(f\"Boolean: {bool_value}\")\n"
      ],
      "metadata": {
        "colab": {
          "base_uri": "https://localhost:8080/"
        },
        "id": "X5qgbNe6D4rR",
        "outputId": "f4653994-f2c7-4cc5-c2d8-bc8180a69429"
      },
      "execution_count": 20,
      "outputs": [
        {
          "output_type": "stream",
          "name": "stdout",
          "text": [
            "Enter a value: 5\n",
            "\n",
            "Original input:\n",
            "String: 5\n",
            "Integer: 5\n",
            "Float: 5.0\n",
            "Boolean: True\n"
          ]
        }
      ]
    },
    {
      "cell_type": "code",
      "source": [
        "#10. Write code to demonstrate type casting with list elements.\n",
        "\n",
        "# List of numbers as strings\n",
        "string_numbers = [\"10\", \"20\", \"30\", \"40\"]\n",
        "\n",
        "print(\"Original list of strings:\", string_numbers)\n",
        "\n",
        "# Convert each string to an integer\n",
        "int_numbers = [int(num) for num in string_numbers]\n",
        "print(\"List converted to integers:\", int_numbers)\n",
        "\n",
        "# Convert each string to a float\n",
        "float_numbers = [float(num) for num in string_numbers]\n",
        "print(\"List converted to floats:\", float_numbers)\n",
        "\n",
        "# Another example: Convert numbers back to strings\n",
        "back_to_strings = [str(num) for num in int_numbers]\n",
        "print(\"Integers converted back to strings:\", back_to_strings)\n"
      ],
      "metadata": {
        "colab": {
          "base_uri": "https://localhost:8080/"
        },
        "id": "6TqtTHYgE2ti",
        "outputId": "3cff225e-3685-4cdc-ac87-fabe7fdc98a7"
      },
      "execution_count": 21,
      "outputs": [
        {
          "output_type": "stream",
          "name": "stdout",
          "text": [
            "Original list of strings: ['10', '20', '30', '40']\n",
            "List converted to integers: [10, 20, 30, 40]\n",
            "List converted to floats: [10.0, 20.0, 30.0, 40.0]\n",
            "Integers converted back to strings: ['10', '20', '30', '40']\n"
          ]
        }
      ]
    },
    {
      "cell_type": "code",
      "source": [
        "#11. Write a program that checks if a number is positive, negative, or zero.\n",
        "\n",
        "# Get input from the user\n",
        "num = float(input(\"Enter a number: \"))\n",
        "\n",
        "# Check if the number is positive, negative, or zero\n",
        "if num > 0:\n",
        "    print(\"The number is positive.\")\n",
        "elif num < 0:\n",
        "    print(\"The number is negative.\")\n",
        "else:\n",
        "    print(\"The number is zero.\")\n"
      ],
      "metadata": {
        "colab": {
          "base_uri": "https://localhost:8080/"
        },
        "id": "6EvUsXbMFPOQ",
        "outputId": "fd0d7f91-094d-4a54-fe74-dad6c1594268"
      },
      "execution_count": 22,
      "outputs": [
        {
          "output_type": "stream",
          "name": "stdout",
          "text": [
            "Enter a number: 1\n",
            "The number is positive.\n"
          ]
        }
      ]
    },
    {
      "cell_type": "code",
      "source": [
        "#12. Write a for loop to print numbers from 1 to 10.\n",
        "\n",
        "# Print numbers from 1 to 10 using a for loop\n",
        "for i in range(1, 11):\n",
        "    print(i)\n"
      ],
      "metadata": {
        "colab": {
          "base_uri": "https://localhost:8080/"
        },
        "id": "jcSGt_OPFYHj",
        "outputId": "d4fd9702-a8e8-4732-cfa8-0995d86dd4ef"
      },
      "execution_count": 23,
      "outputs": [
        {
          "output_type": "stream",
          "name": "stdout",
          "text": [
            "1\n",
            "2\n",
            "3\n",
            "4\n",
            "5\n",
            "6\n",
            "7\n",
            "8\n",
            "9\n",
            "10\n"
          ]
        }
      ]
    },
    {
      "cell_type": "code",
      "source": [
        "#13.  Write a Python program to find the sum of all even numbers between 1 and 50.\n",
        "\n",
        "# Initialize sum variable\n",
        "sum_even = 0\n",
        "\n",
        "# Use a for loop to iterate through numbers 1 to 50\n",
        "for num in range(1, 51):\n",
        "    if num % 2 == 0:   # Check if the number is even\n",
        "        sum_even += num\n",
        "\n",
        "print(\"The sum of all even numbers between 1 and 50 is:\", sum_even)\n"
      ],
      "metadata": {
        "colab": {
          "base_uri": "https://localhost:8080/"
        },
        "id": "nEABwYTHFj93",
        "outputId": "3ce0adc7-e525-4a82-968b-f8aaec872709"
      },
      "execution_count": 24,
      "outputs": [
        {
          "output_type": "stream",
          "name": "stdout",
          "text": [
            "The sum of all even numbers between 1 and 50 is: 650\n"
          ]
        }
      ]
    },
    {
      "cell_type": "code",
      "source": [
        "#14. Write a program to reverse a string using a while loop.\n",
        "\n",
        "# Get input from the user\n",
        "original_string = input(\"Enter a string: \")\n",
        "\n",
        "# Initialize an empty string for the reversed result\n",
        "reversed_string = \"\"\n",
        "\n",
        "# Get the index of the last character\n",
        "index = len(original_string) - 1\n",
        "\n",
        "# Use a while loop to reverse the string\n",
        "while index >= 0:\n",
        "    reversed_string += original_string[index]\n",
        "    index -= 1\n",
        "\n",
        "print(\"Reversed string:\", reversed_string)\n"
      ],
      "metadata": {
        "colab": {
          "base_uri": "https://localhost:8080/"
        },
        "id": "gu-PBPBEF39R",
        "outputId": "81a5bd8b-bfcb-4315-eeea-678a694d4680"
      },
      "execution_count": 25,
      "outputs": [
        {
          "output_type": "stream",
          "name": "stdout",
          "text": [
            "Enter a string: Mayank\n",
            "Reversed string: knayaM\n"
          ]
        }
      ]
    },
    {
      "cell_type": "code",
      "source": [
        "#15.  Write a Python program to calculate the factorial of a number provided by the user using a while loop\n",
        "\n",
        "# Get input from the user\n",
        "num = int(input(\"Enter a positive integer: \"))\n",
        "\n",
        "# Initialize factorial result\n",
        "factorial = 1\n",
        "\n",
        "# Use a temporary variable to loop\n",
        "n = num\n",
        "\n",
        "# Calculate factorial using while loop\n",
        "while n > 0:\n",
        "    factorial *= n\n",
        "    n -= 1\n",
        "\n",
        "print(f\"The factorial of {num} is: {factorial}\")\n"
      ],
      "metadata": {
        "colab": {
          "base_uri": "https://localhost:8080/"
        },
        "id": "r0LCQLy-GFrE",
        "outputId": "dd9b1dc8-52d2-4cc9-f6dc-ede2af443f8e"
      },
      "execution_count": 26,
      "outputs": [
        {
          "output_type": "stream",
          "name": "stdout",
          "text": [
            "Enter a positive integer: 100\n",
            "The factorial of 100 is: 93326215443944152681699238856266700490715968264381621468592963895217599993229915608941463976156518286253697920827223758251185210916864000000000000000000000000\n"
          ]
        }
      ]
    }
  ]
}